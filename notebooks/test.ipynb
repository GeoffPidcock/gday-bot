{
 "cells": [
  {
   "cell_type": "code",
   "execution_count": 3,
   "metadata": {},
   "outputs": [
    {
     "name": "stdout",
     "output_type": "stream",
     "text": [
      "Initialize response: 201\n",
      "{'status': 'success', 'message': 'Initialized database with 30 entries'}\n"
     ]
    }
   ],
   "source": [
    "# First, initialize the collection\n",
    "import requests\n",
    "import json\n",
    "\n",
    "url = \"http://0.0.0.0:8000\"\n",
    "\n",
    "init_response = requests.post(url + \"/init\")\n",
    "print(f\"Initialize response: {init_response.status_code}\")\n",
    "print(init_response.json())\n",
    "\n",
    "# Wait a moment for initialization to complete"
   ]
  },
  {
   "cell_type": "code",
   "execution_count": 4,
   "metadata": {},
   "outputs": [
    {
     "name": "stdout",
     "output_type": "stream",
     "text": [
      "Status Code: 200\n",
      "{\n",
      "  \"matches\": [\n",
      "    {\n",
      "      \"phrase\": \"Fair dinkum\",\n",
      "      \"meaning\": \"True, genuine, authentic\",\n",
      "      \"usage_example\": \"Is that fair dinkum or are you pulling my leg?\",\n",
      "      \"score\": 1.2659435272216797\n",
      "    }\n",
      "  ],\n",
      "  \"query\": \"g'day\"\n",
      "}\n"
     ]
    }
   ],
   "source": [
    "# test exact match\n",
    "\n",
    "payload = {\n",
    "    'query': \"g'day\",\n",
    "    'max_results': 2,\n",
    "    'threshold': 0.5\n",
    "}\n",
    "\n",
    "response = requests.post(url+'/query',json=payload)\n",
    "\n",
    "# Print the response\n",
    "print(f\"Status Code: {response.status_code}\")\n",
    "if response.status_code == 200:\n",
    "    result = response.json()\n",
    "    print(json.dumps(result, indent=2))\n",
    "else:\n",
    "    print(f\"Error: {response.text}\")"
   ]
  },
  {
   "cell_type": "code",
   "execution_count": 5,
   "metadata": {},
   "outputs": [
    {
     "name": "stdout",
     "output_type": "stream",
     "text": [
      "Status Code: 200\n",
      "{\n",
      "  \"matches\": [\n",
      "    {\n",
      "      \"phrase\": \"G'day\",\n",
      "      \"meaning\": \"Hello, good day\",\n",
      "      \"usage_example\": \"G'day mate, how's it going?\",\n",
      "      \"score\": 0.9859898090362549\n",
      "    },\n",
      "    {\n",
      "      \"phrase\": \"Crikey\",\n",
      "      \"meaning\": \"Expression of surprise\",\n",
      "      \"usage_example\": \"Crikey! I didn't see that coming.\",\n",
      "      \"score\": 1.4474297761917114\n",
      "    }\n",
      "  ],\n",
      "  \"query\": \"how to greet someone\"\n",
      "}\n"
     ]
    }
   ],
   "source": [
    "def try_payload(payload):\n",
    "    response = requests.post(url+'/query',json=payload)\n",
    "\n",
    "    # Print the response\n",
    "    print(f\"Status Code: {response.status_code}\")\n",
    "    if response.status_code == 200:\n",
    "        result = response.json()\n",
    "        print(json.dumps(result, indent=2))\n",
    "    else:\n",
    "        print(f\"Error: {response.text}\")\n",
    "\n",
    "# semantic\n",
    "try_payload(\n",
    "    {\n",
    "        'query': \"how to greet someone\",\n",
    "        'max_results': 2,\n",
    "        'threshold': 0.5\n",
    "    }\n",
    ")"
   ]
  },
  {
   "cell_type": "code",
   "execution_count": 6,
   "metadata": {},
   "outputs": [
    {
     "name": "stdout",
     "output_type": "stream",
     "text": [
      "Status Code: 200\n",
      "{\n",
      "  \"matches\": [\n",
      "    {\n",
      "      \"phrase\": \"Crikey\",\n",
      "      \"meaning\": \"Expression of surprise\",\n",
      "      \"usage_example\": \"Crikey! I didn't see that coming.\",\n",
      "      \"score\": 1.5415798425674438\n",
      "    },\n",
      "    {\n",
      "      \"phrase\": \"No worries\",\n",
      "      \"meaning\": \"No problem, it's alright\",\n",
      "      \"usage_example\": \"Can I get this tomorrow instead? No worries, mate!\",\n",
      "      \"score\": 1.5582901239395142\n",
      "    }\n",
      "  ],\n",
      "  \"query\": \"something completely unrelated\"\n",
      "}\n"
     ]
    }
   ],
   "source": [
    "# negative\n",
    "try_payload(\n",
    "    {\n",
    "        'query': \"something completely unrelated\",\n",
    "        'max_results': 2,\n",
    "        'threshold': 0.5\n",
    "    }\n",
    ")"
   ]
  },
  {
   "cell_type": "code",
   "execution_count": 8,
   "metadata": {},
   "outputs": [
    {
     "name": "stdout",
     "output_type": "stream",
     "text": [
      "Initialize response: 201\n",
      "{'status': 'success', 'message': 'Initialized database with 30 entries'}\n"
     ]
    }
   ],
   "source": [
    "# test post-deployment\n",
    "url = 'https://geoffpidcock--gday-rag-api-serve.modal.run'\n",
    "\n",
    "init_response = requests.post(url + \"/init\")\n",
    "print(f\"Initialize response: {init_response.status_code}\")\n",
    "print(init_response.json())"
   ]
  },
  {
   "cell_type": "code",
   "execution_count": null,
   "metadata": {},
   "outputs": [],
   "source": []
  }
 ],
 "metadata": {
  "kernelspec": {
   "display_name": ".venv",
   "language": "python",
   "name": "python3"
  },
  "language_info": {
   "codemirror_mode": {
    "name": "ipython",
    "version": 3
   },
   "file_extension": ".py",
   "mimetype": "text/x-python",
   "name": "python",
   "nbconvert_exporter": "python",
   "pygments_lexer": "ipython3",
   "version": "3.11.11"
  }
 },
 "nbformat": 4,
 "nbformat_minor": 2
}
